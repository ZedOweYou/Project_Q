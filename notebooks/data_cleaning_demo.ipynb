{
 "cells": [
  {
   "cell_type": "code",
   "execution_count": null,
   "id": "eb91ee1a-08bd-4388-888b-67e4b9f633d8",
   "metadata": {},
   "outputs": [],
   "source": [
    "import os \n",
    "dir_path = os.path.dirname(os.path.realpath(\"__file__\"))\n",
    "os.chdir(dir_path) "
   ]
  },
  {
   "cell_type": "code",
   "execution_count": null,
   "id": "f5e5e8d7-91bf-4559-9313-ca6e6b2af671",
   "metadata": {},
   "outputs": [],
   "source": [
    "from data_collection import get_sym_data\n",
    "from data_cleaning import foward_fill, process_returns\n",
    "import database_manager as dm\n",
    "from pykx import q, QError\n",
    "os.chdir(dir_path) \n"
   ]
  },
  {
   "cell_type": "code",
   "execution_count": null,
   "id": "84304246-4da1-4ea0-9301-2ff1b5b42bc8",
   "metadata": {},
   "outputs": [],
   "source": [
    "# pull google stock data\n",
    "sym = \"googl\"\n",
    "sym = sym.upper()\n",
    "table = get_sym_data(sym)\n",
    "print(table)"
   ]
  },
  {
   "cell_type": "code",
   "execution_count": null,
   "id": "f819b4a9-d48b-4f07-af56-517d9bd91608",
   "metadata": {},
   "outputs": [],
   "source": [
    "q.set('t',table)\n",
    "q('count t')"
   ]
  },
  {
   "cell_type": "code",
   "execution_count": null,
   "id": "6e21626e-8e8a-4195-981c-decc8dbdefae",
   "metadata": {},
   "outputs": [],
   "source": [
    "q('del:(count t)?2')\n",
    "q('count del')"
   ]
  },
  {
   "cell_type": "code",
   "execution_count": null,
   "id": "c51c1d1a-7501-4a3f-8f91-49eaefd003b8",
   "metadata": {},
   "outputs": [],
   "source": [
    "# simuate missing values\n",
    "table = q('update Close: ?[del=0; 0Nf; Close] from t')\n",
    "print(table)"
   ]
  },
  {
   "cell_type": "code",
   "execution_count": null,
   "id": "d9554c11-6092-4039-8768-2bb2e1c7751c",
   "metadata": {},
   "outputs": [],
   "source": [
    "# forward fill missing values\n",
    "table = foward_fill(table)\n",
    "print(table)"
   ]
  },
  {
   "cell_type": "code",
   "execution_count": null,
   "id": "b982ce03-cf31-4c6e-bacb-d47141331534",
   "metadata": {},
   "outputs": [],
   "source": [
    "# N_normalized price change %\n",
    "# R_daily return %\n",
    "# C_culminative returns %\n",
    "table = process_returns(table)\n",
    "q.set('t',table)\n",
    "table = q('select Datetime, Open, N_Open, R_Open, C_Open from t')\n",
    "table"
   ]
  }
 ],
 "metadata": {
  "kernelspec": {
   "display_name": "Python 3 (ipykernel)",
   "language": "python",
   "name": "python3"
  },
  "language_info": {
   "codemirror_mode": {
    "name": "ipython",
    "version": 3
   },
   "file_extension": ".py",
   "mimetype": "text/x-python",
   "name": "python",
   "nbconvert_exporter": "python",
   "pygments_lexer": "ipython3",
   "version": "3.9.13"
  }
 },
 "nbformat": 4,
 "nbformat_minor": 5
}
