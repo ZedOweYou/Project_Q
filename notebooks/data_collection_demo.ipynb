{
 "cells": [
  {
   "cell_type": "code",
   "execution_count": 7,
   "id": "4edbb4dd-15a5-4317-9d1f-e70709aa3bcc",
   "metadata": {},
   "outputs": [
    {
     "data": {
      "text/plain": [
       "'C:\\\\Users\\\\chenx\\\\Documents\\\\Project_Q'"
      ]
     },
     "execution_count": 7,
     "metadata": {},
     "output_type": "execute_result"
    }
   ],
   "source": [
    "import os \n",
    "dir_path = os.path.dirname(os.path.realpath(\"__file__\"))\n",
    "os.chdir(dir_path) \n",
    "os.getcwd()"
   ]
  },
  {
   "cell_type": "code",
   "execution_count": 8,
   "id": "405294b0-30f4-47af-9082-d4c6c57562b0",
   "metadata": {},
   "outputs": [],
   "source": [
    "from data_collection import get_sym_data, get_new_sym_data, update_sym_data\n",
    "import database_manager as dm\n",
    "from datetime import datetime\n",
    "from pykx import q, QError\n",
    "os.chdir(dir_path) "
   ]
  },
  {
   "cell_type": "code",
   "execution_count": 9,
   "id": "09ae11a5-4fb9-4dd7-8a04-4dce072419bc",
   "metadata": {},
   "outputs": [],
   "source": [
    "sym = \"googl\"\n",
    "sym = sym.upper()\n",
    "\n"
   ]
  },
  {
   "cell_type": "code",
   "execution_count": 11,
   "id": "54d84beb-3f90-4fd3-a8da-31a7bfe166ce",
   "metadata": {},
   "outputs": [
    {
     "name": "stdout",
     "output_type": "stream",
     "text": [
      "Datetime                      Open     High     Low      Close    Volume\n",
      "------------------------------------------------------------------------\n",
      "2024.07.02D13:30:00.000000000 182.01   182.63   182      182.54   706507\n",
      "2024.07.02D13:31:00.000000000 182.52   182.52   182.01   182.03   65513 \n",
      "2024.07.02D13:32:00.000000000 182.03   182.31   182.03   182.305  68866 \n",
      "2024.07.02D13:33:00.000000000 182.31   182.4894 182.31   182.35   78758 \n",
      "2024.07.02D13:34:00.000000000 182.3461 182.3838 182.05   182.11   44688 \n",
      "2024.07.02D13:35:00.000000000 182.115  182.27   181.9301 181.9301 58004 \n",
      "2024.07.02D13:36:00.000000000 181.97   182.09   181.63   181.63   83597 \n",
      "2024.07.02D13:37:00.000000000 181.635  181.8    181.565  181.7    101035\n",
      "2024.07.02D13:38:00.000000000 181.69   182.07   181.69   181.775  99613 \n",
      "2024.07.02D13:39:00.000000000 181.7997 181.86   181.7    181.79   74468 \n",
      "2024.07.02D13:40:00.000000000 181.77   181.9    181.6999 181.79   62158 \n",
      "2024.07.02D13:41:00.000000000 181.7853 181.85   181.69   181.85   46367 \n",
      "2024.07.02D13:42:00.000000000 181.8553 182.1    181.82   182.08   56944 \n",
      "2024.07.02D13:43:00.000000000 182.06   182.15   182.01   182.05   47253 \n",
      "2024.07.02D13:44:00.000000000 182.0405 182.2    182.03   182.16   45403 \n",
      "2024.07.02D13:45:00.000000000 182.185  182.21   181.88   181.89   42771 \n",
      "2024.07.02D13:46:00.000000000 181.88   182.12   181.85   182.12   39053 \n",
      "2024.07.02D13:47:00.000000000 182.123  182.15   182      182      33993 \n",
      "2024.07.02D13:48:00.000000000 182.01   182.09   181.95   182.085  38596 \n",
      "2024.07.02D13:49:00.000000000 182.09   182.14   181.965  182.02   59401 \n",
      "..\n"
     ]
    }
   ],
   "source": [
    "date_string = \"26062024\"\n",
    "format = \"%d%m%Y\"\n",
    "date = datetime.strptime(date_string, format).date()\n",
    "table = get_sym_data(sym)\n",
    "print(table)"
   ]
  },
  {
   "cell_type": "code",
   "execution_count": 12,
   "id": "0280a00a-5954-4b44-b188-f70bc1c0f1ae",
   "metadata": {},
   "outputs": [
    {
     "name": "stdout",
     "output_type": "stream",
     "text": [
      "Datetime                      Open     High     Low      Close    Volume\n",
      "------------------------------------------------------------------------\n",
      "2024.07.02D13:30:00.000000000 182.01   182.63   182      182.54   706507\n",
      "2024.07.02D13:31:00.000000000 182.52   182.52   182.01   182.03   65513 \n",
      "2024.07.02D13:32:00.000000000 182.03   182.31   182.03   182.305  68866 \n",
      "2024.07.02D13:33:00.000000000 182.31   182.4894 182.31   182.35   78758 \n",
      "2024.07.02D13:34:00.000000000 182.3461 182.3838 182.05   182.11   44688 \n",
      "2024.07.02D13:35:00.000000000 182.115  182.27   181.9301 181.9301 58004 \n",
      "2024.07.02D13:36:00.000000000 181.97   182.09   181.63   181.63   83597 \n",
      "2024.07.02D13:37:00.000000000 181.635  181.8    181.565  181.7    101035\n",
      "2024.07.02D13:38:00.000000000 181.69   182.07   181.69   181.775  99613 \n",
      "2024.07.02D13:39:00.000000000 181.7997 181.86   181.7    181.79   74468 \n",
      "2024.07.02D13:40:00.000000000 181.77   181.9    181.6999 181.79   62158 \n",
      "2024.07.02D13:41:00.000000000 181.7853 181.85   181.69   181.85   46367 \n",
      "2024.07.02D13:42:00.000000000 181.8553 182.1    181.82   182.08   56944 \n",
      "2024.07.02D13:43:00.000000000 182.06   182.15   182.01   182.05   47253 \n",
      "2024.07.02D13:44:00.000000000 182.0405 182.2    182.03   182.16   45403 \n",
      "2024.07.02D13:45:00.000000000 182.185  182.21   181.88   181.89   42771 \n",
      "2024.07.02D13:46:00.000000000 181.88   182.12   181.85   182.12   39053 \n",
      "2024.07.02D13:47:00.000000000 182.123  182.15   182      182      33993 \n",
      "2024.07.02D13:48:00.000000000 182.01   182.09   181.95   182.085  38596 \n",
      "2024.07.02D13:49:00.000000000 182.09   182.14   181.965  182.02   59401 \n",
      "..\n"
     ]
    }
   ],
   "source": [
    "dm.save_table(table, sym)\n",
    "\n",
    "table = dm.read_table(sym)\n",
    "print(table)"
   ]
  },
  {
   "cell_type": "code",
   "execution_count": 32,
   "id": "a55c62cc-77e5-4823-8fe8-0c8b0b4459cc",
   "metadata": {},
   "outputs": [],
   "source": []
  },
  {
   "cell_type": "code",
   "execution_count": 14,
   "id": "f9c26c6b-9bae-4df9-82ec-9bc397878807",
   "metadata": {},
   "outputs": [
    {
     "data": {
      "text/plain": [
       "pykx.SymbolAtom(pykx.q('`:data/GOOGL/'))"
      ]
     },
     "execution_count": 14,
     "metadata": {},
     "output_type": "execute_result"
    }
   ],
   "source": [
    "update_sym_data(sym)"
   ]
  },
  {
   "cell_type": "code",
   "execution_count": null,
   "id": "c661e419-5339-4c9c-bf31-c68dba23ec10",
   "metadata": {},
   "outputs": [],
   "source": []
  },
  {
   "cell_type": "code",
   "execution_count": null,
   "id": "cc02b93b-32cc-4c3f-a819-d56ed456da45",
   "metadata": {},
   "outputs": [],
   "source": []
  }
 ],
 "metadata": {
  "kernelspec": {
   "display_name": "Python 3 (ipykernel)",
   "language": "python",
   "name": "python3"
  },
  "language_info": {
   "codemirror_mode": {
    "name": "ipython",
    "version": 3
   },
   "file_extension": ".py",
   "mimetype": "text/x-python",
   "name": "python",
   "nbconvert_exporter": "python",
   "pygments_lexer": "ipython3",
   "version": "3.9.13"
  }
 },
 "nbformat": 4,
 "nbformat_minor": 5
}
