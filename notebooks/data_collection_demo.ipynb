{
 "cells": [
  {
   "cell_type": "code",
   "execution_count": null,
   "id": "4edbb4dd-15a5-4317-9d1f-e70709aa3bcc",
   "metadata": {},
   "outputs": [],
   "source": [
    "import os \n",
    "dir_path = os.path.dirname(os.path.realpath(\"__file__\"))\n",
    "os.chdir(dir_path) \n",
    "os.getcwd()"
   ]
  },
  {
   "cell_type": "code",
   "execution_count": null,
   "id": "405294b0-30f4-47af-9082-d4c6c57562b0",
   "metadata": {},
   "outputs": [],
   "source": [
    "from data_collection import get_sym_data, get_new_sym_data, update_sym_data\n",
    "import database_manager as dm\n",
    "from datetime import datetime\n",
    "from pykx import q, QError\n",
    "os.chdir(dir_path) "
   ]
  },
  {
   "cell_type": "code",
   "execution_count": null,
   "id": "09ae11a5-4fb9-4dd7-8a04-4dce072419bc",
   "metadata": {},
   "outputs": [],
   "source": [
    "sym = \"googl\"\n",
    "sym = sym.upper()\n",
    "\n"
   ]
  },
  {
   "cell_type": "code",
   "execution_count": null,
   "id": "54d84beb-3f90-4fd3-a8da-31a7bfe166ce",
   "metadata": {},
   "outputs": [],
   "source": [
    "date_string = \"26062024\"\n",
    "format = \"%d%m%Y\"\n",
    "date = datetime.strptime(date_string, format).date()\n",
    "table = get_sym_data(sym)\n",
    "print(table)"
   ]
  },
  {
   "cell_type": "code",
   "execution_count": null,
   "id": "0280a00a-5954-4b44-b188-f70bc1c0f1ae",
   "metadata": {},
   "outputs": [],
   "source": [
    "dm.save_table(table, sym)\n",
    "\n",
    "table = dm.read_table(sym)\n",
    "print(table)"
   ]
  },
  {
   "cell_type": "code",
   "execution_count": null,
   "id": "a55c62cc-77e5-4823-8fe8-0c8b0b4459cc",
   "metadata": {},
   "outputs": [],
   "source": []
  },
  {
   "cell_type": "code",
   "execution_count": null,
   "id": "f9c26c6b-9bae-4df9-82ec-9bc397878807",
   "metadata": {},
   "outputs": [],
   "source": [
    "update_sym_data(sym)"
   ]
  },
  {
   "cell_type": "code",
   "execution_count": null,
   "id": "c661e419-5339-4c9c-bf31-c68dba23ec10",
   "metadata": {},
   "outputs": [],
   "source": []
  },
  {
   "cell_type": "code",
   "execution_count": null,
   "id": "cc02b93b-32cc-4c3f-a819-d56ed456da45",
   "metadata": {},
   "outputs": [],
   "source": []
  }
 ],
 "metadata": {
  "kernelspec": {
   "display_name": "Python 3 (ipykernel)",
   "language": "python",
   "name": "python3"
  },
  "language_info": {
   "codemirror_mode": {
    "name": "ipython",
    "version": 3
   },
   "file_extension": ".py",
   "mimetype": "text/x-python",
   "name": "python",
   "nbconvert_exporter": "python",
   "pygments_lexer": "ipython3",
   "version": "3.9.13"
  }
 },
 "nbformat": 4,
 "nbformat_minor": 5
}
