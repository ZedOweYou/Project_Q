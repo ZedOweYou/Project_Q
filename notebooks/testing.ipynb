{
 "cells": [
  {
   "cell_type": "code",
   "execution_count": 15,
   "id": "4edbb4dd-15a5-4317-9d1f-e70709aa3bcc",
   "metadata": {},
   "outputs": [],
   "source": [
    "import os \n",
    "dir_path = os.path.dirname(os.path.realpath(\"__file__\"))\n",
    "os.chdir(dir_path) "
   ]
  },
  {
   "cell_type": "code",
   "execution_count": 16,
   "id": "405294b0-30f4-47af-9082-d4c6c57562b0",
   "metadata": {},
   "outputs": [],
   "source": [
    "from data_collection import get_sym_data, get_new_sym_data\n",
    "from pykx import q\n",
    "from datetime import datetime, date, timezone\n",
    "from zoneinfo import ZoneInfo"
   ]
  },
  {
   "cell_type": "code",
   "execution_count": 17,
   "id": "09ae11a5-4fb9-4dd7-8a04-4dce072419bc",
   "metadata": {},
   "outputs": [
    {
     "data": {
      "text/plain": [
       "pykx.wrappers.Table"
      ]
     },
     "execution_count": 17,
     "metadata": {},
     "output_type": "execute_result"
    }
   ],
   "source": [
    "sym = \"aapl\"\n",
    "sym = sym.upper()\n",
    "\n",
    "\n",
    "date_string = \"26062024\"\n",
    "format = \"%d%m%Y\"\n",
    "date = datetime.strptime(date_string, format).date()\n",
    "table = get_sym_data(sym)\n",
    "type(table)"
   ]
  },
  {
   "cell_type": "code",
   "execution_count": 18,
   "id": "0280a00a-5954-4b44-b188-f70bc1c0f1ae",
   "metadata": {},
   "outputs": [
    {
     "name": "stdout",
     "output_type": "stream",
     "text": [
      "Datetime                      Open     High     Low      Close    Volume \n",
      "-------------------------------------------------------------------------\n",
      "2024.07.02D13:30:00.000000000 216.15   216.47   215.84   215.9301 1662446\n",
      "2024.07.02D13:31:00.000000000 215.99   216.38   215.54   215.95   176303 \n",
      "2024.07.02D13:32:00.000000000 215.96   216.12   215.75   215.99   199037 \n",
      "2024.07.02D13:33:00.000000000 216      216.29   215.97   215.99   146868 \n",
      "2024.07.02D13:34:00.000000000 215.98   216.09   215.56   215.58   178534 \n",
      "2024.07.02D13:35:00.000000000 215.57   215.94   215.1    215.895  402296 \n",
      "2024.07.02D13:36:00.000000000 215.9    216.38   215.89   216.33   286317 \n",
      "2024.07.02D13:37:00.000000000 216.32   216.71   216.3005 216.58   312556 \n",
      "2024.07.02D13:38:00.000000000 216.58   217.14   216.575  217.11   503839 \n",
      "2024.07.02D13:39:00.000000000 217.09   217.12   216.6375 216.72   210358 \n",
      "2024.07.02D13:40:00.000000000 216.645  217.006  216.475  216.88   218240 \n",
      "2024.07.02D13:41:00.000000000 216.8789 217.04   216.5812 216.7    215326 \n",
      "2024.07.02D13:42:00.000000000 216.6751 217.27   216.64   217.24   279073 \n",
      "2024.07.02D13:43:00.000000000 217.2186 217.34   217.04   217.17   225259 \n",
      "2024.07.02D13:44:00.000000000 217.1905 217.46   217.1408 217.46   204524 \n",
      "2024.07.02D13:45:00.000000000 217.4643 217.9    217.4643 217.875  324882 \n",
      "2024.07.02D13:46:00.000000000 217.8755 217.8899 217.45   217.7091 240532 \n",
      "2024.07.02D13:47:00.000000000 217.71   217.97   217.5799 217.5799 273308 \n",
      "2024.07.02D13:48:00.000000000 217.58   217.6    217.2512 217.33   224981 \n",
      "2024.07.02D13:49:00.000000000 217.3001 217.505  217.27   217.3699 158849 \n",
      "..\n",
      "136\n"
     ]
    },
    {
     "data": {
      "text/plain": [
       "pykx.wrappers.Table"
      ]
     },
     "execution_count": 18,
     "metadata": {},
     "output_type": "execute_result"
    }
   ],
   "source": [
    "q.set('t',table)\n",
    "print(q('t'))\n",
    "print(q('count t'))\n",
    "type(q('t'))"
   ]
  },
  {
   "cell_type": "code",
   "execution_count": 19,
   "id": "66b15f48-06a5-4bc0-a5d5-1cea3ab62a71",
   "metadata": {},
   "outputs": [
    {
     "data": {
      "text/plain": [
       "pykx.wrappers.SymbolAtom"
      ]
     },
     "execution_count": 19,
     "metadata": {},
     "output_type": "execute_result"
    }
   ],
   "source": [
    "os.chdir(dir_path) \n",
    "p = q('`:data/'+sym+'/ set t')\n",
    "type(p)"
   ]
  },
  {
   "cell_type": "code",
   "execution_count": 20,
   "id": "f9c26c6b-9bae-4df9-82ec-9bc397878807",
   "metadata": {},
   "outputs": [
    {
     "name": "stderr",
     "output_type": "stream",
     "text": [
      "AAPL: No price data found, symbol may be delisted (1m 2024-07-02 15:46:00+00:00 -> 2024-07-02 11:46:13-04:00)\n"
     ]
    },
    {
     "ename": "NoData",
     "evalue": "No Data Recieved from yfinance",
     "output_type": "error",
     "traceback": [
      "\u001b[1;31m---------------------------------------------------------------------------\u001b[0m",
      "\u001b[1;31mNoData\u001b[0m                                    Traceback (most recent call last)",
      "Cell \u001b[1;32mIn[20], line 1\u001b[0m\n\u001b[1;32m----> 1\u001b[0m table \u001b[38;5;241m=\u001b[39m \u001b[43mget_new_sym_data\u001b[49m\u001b[43m(\u001b[49m\u001b[43msym\u001b[49m\u001b[43m)\u001b[49m\n\u001b[0;32m      2\u001b[0m table\n",
      "File \u001b[1;32m~\\Documents\\Project_Q\\data_collection.py:38\u001b[0m, in \u001b[0;36mget_new_sym_data\u001b[1;34m(symbol)\u001b[0m\n\u001b[0;32m     36\u001b[0m \u001b[38;5;28;01mdef\u001b[39;00m \u001b[38;5;21mget_new_sym_data\u001b[39m(symbol:\u001b[38;5;28mstr\u001b[39m) \u001b[38;5;241m-\u001b[39m\u001b[38;5;241m>\u001b[39m Table:\n\u001b[0;32m     37\u001b[0m     latest_date \u001b[38;5;241m=\u001b[39m dm\u001b[38;5;241m.\u001b[39mlatest_date(symbol)\n\u001b[1;32m---> 38\u001b[0m     t \u001b[38;5;241m=\u001b[39m \u001b[43mget_sym_data\u001b[49m\u001b[43m(\u001b[49m\u001b[43msymbol\u001b[49m\u001b[43m,\u001b[49m\u001b[43mstart\u001b[49m\u001b[38;5;241;43m=\u001b[39;49m\u001b[43mlatest_date\u001b[49m\u001b[43m)\u001b[49m\n\u001b[0;32m     39\u001b[0m     \u001b[38;5;28;01mreturn\u001b[39;00m t\n",
      "File \u001b[1;32m~\\Documents\\Project_Q\\data_collection.py:29\u001b[0m, in \u001b[0;36mget_sym_data\u001b[1;34m(symbol, start, pandas)\u001b[0m\n\u001b[0;32m     27\u001b[0m     df \u001b[38;5;241m=\u001b[39m sym\u001b[38;5;241m.\u001b[39mhistory(period\u001b[38;5;241m=\u001b[39m\u001b[38;5;124m\"\u001b[39m\u001b[38;5;124m1d\u001b[39m\u001b[38;5;124m\"\u001b[39m,interval\u001b[38;5;241m=\u001b[39m\u001b[38;5;124m\"\u001b[39m\u001b[38;5;124m1m\u001b[39m\u001b[38;5;124m\"\u001b[39m,actions\u001b[38;5;241m=\u001b[39m\u001b[38;5;28;01mFalse\u001b[39;00m)\u001b[38;5;241m.\u001b[39mreset_index()\n\u001b[0;32m     28\u001b[0m \u001b[38;5;28;01mif\u001b[39;00m \u001b[38;5;28mlen\u001b[39m(df)\u001b[38;5;241m==\u001b[39m\u001b[38;5;241m0\u001b[39m: \n\u001b[1;32m---> 29\u001b[0m     \u001b[38;5;28;01mraise\u001b[39;00m em\u001b[38;5;241m.\u001b[39mNoData(\u001b[38;5;124m\"\u001b[39m\u001b[38;5;124mNo Data Recieved from yfinance\u001b[39m\u001b[38;5;124m\"\u001b[39m)\n\u001b[0;32m     30\u001b[0m \u001b[38;5;28;01mif\u001b[39;00m pandas:\n\u001b[0;32m     31\u001b[0m     \u001b[38;5;28;01mreturn\u001b[39;00m df \n",
      "\u001b[1;31mNoData\u001b[0m: No Data Recieved from yfinance"
     ]
    }
   ],
   "source": [
    "table = get_new_sym_data(sym)\n",
    "table"
   ]
  },
  {
   "cell_type": "code",
   "execution_count": null,
   "id": "c661e419-5339-4c9c-bf31-c68dba23ec10",
   "metadata": {},
   "outputs": [],
   "source": []
  }
 ],
 "metadata": {
  "kernelspec": {
   "display_name": "Python 3 (ipykernel)",
   "language": "python",
   "name": "python3"
  },
  "language_info": {
   "codemirror_mode": {
    "name": "ipython",
    "version": 3
   },
   "file_extension": ".py",
   "mimetype": "text/x-python",
   "name": "python",
   "nbconvert_exporter": "python",
   "pygments_lexer": "ipython3",
   "version": "3.9.13"
  }
 },
 "nbformat": 4,
 "nbformat_minor": 5
}
