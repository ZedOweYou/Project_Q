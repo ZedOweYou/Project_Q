{
 "cells": [
  {
   "cell_type": "code",
   "execution_count": 1,
   "id": "4edbb4dd-15a5-4317-9d1f-e70709aa3bcc",
   "metadata": {},
   "outputs": [],
   "source": [
    "import os\n",
    "current_dir = os.getcwd()\n",
    "parent_dir = os.path.abspath(os.path.join(current_dir, os.pardir))\n",
    "os.chdir(parent_dir)\n",
    "\n"
   ]
  },
  {
   "cell_type": "code",
   "execution_count": 2,
   "id": "405294b0-30f4-47af-9082-d4c6c57562b0",
   "metadata": {},
   "outputs": [
    {
     "name": "stderr",
     "output_type": "stream",
     "text": [
      "<frozen importlib._bootstrap>:228: PyKXWarning: Unable to connect user QHOME to PyKX QHOME via symlinks\n",
      "[WinError 1314] A required privilege is not held by the client: 'C:\\\\q\\\\kc.lic' -> 'C:\\\\Users\\\\chenx\\\\AppData\\\\Roaming\\\\Python\\\\Python39\\\\site-packages\\\\pykx\\\\lib\\\\kc.lic'\n"
     ]
    }
   ],
   "source": [
    "from data_collection import get_sym_data"
   ]
  },
  {
   "cell_type": "code",
   "execution_count": 9,
   "id": "09ae11a5-4fb9-4dd7-8a04-4dce072419bc",
   "metadata": {},
   "outputs": [
    {
     "name": "stdout",
     "output_type": "stream",
     "text": [
      "                   Datetime        Open        High         Low       Close  \\\n",
      "0 2024-07-01 09:30:00-04:00  545.630005  545.650024  545.190002  545.505005   \n",
      "1 2024-07-01 09:31:00-04:00  545.510010  545.859924  545.510010  545.799988   \n",
      "2 2024-07-01 09:32:00-04:00  545.799988  545.830017  545.520020  545.580017   \n",
      "3 2024-07-01 09:33:00-04:00  545.570007  545.690002  545.549988  545.619995   \n",
      "4 2024-07-01 09:34:00-04:00  545.619995  545.649475  545.440002  545.500000   \n",
      "\n",
      "    Volume  \n",
      "0  1914404  \n",
      "1   200971  \n",
      "2   127010  \n",
      "3    93041  \n",
      "4   102503  \n"
     ]
    },
    {
     "data": {
      "text/plain": [
       "pykx.wrappers.Table"
      ]
     },
     "execution_count": 9,
     "metadata": {},
     "output_type": "execute_result"
    }
   ],
   "source": [
    "table = get_sym_data(\"spy\")\n",
    "type(table)"
   ]
  },
  {
   "cell_type": "code",
   "execution_count": 10,
   "id": "8e341505-3785-4654-bba0-e285ee85f42a",
   "metadata": {},
   "outputs": [],
   "source": [
    "from pykx import q\n"
   ]
  },
  {
   "cell_type": "code",
   "execution_count": 11,
   "id": "729e4fac-fa32-4f32-8241-4ce5872083d5",
   "metadata": {},
   "outputs": [
    {
     "data": {
      "text/plain": [
       "pykx.SymbolAtom(pykx.q('`t'))"
      ]
     },
     "execution_count": 11,
     "metadata": {},
     "output_type": "execute_result"
    }
   ],
   "source": [
    "q.set('t',[1,2,3,4,5])\n"
   ]
  },
  {
   "cell_type": "code",
   "execution_count": 12,
   "id": "0280a00a-5954-4b44-b188-f70bc1c0f1ae",
   "metadata": {},
   "outputs": [
    {
     "name": "stdout",
     "output_type": "stream",
     "text": [
      "Datetime                      Open     High     Low      Close    Volume \n",
      "-------------------------------------------------------------------------\n",
      "2024.07.01D13:30:00.000000000 545.63   545.65   545.19   545.505  1914404\n",
      "2024.07.01D13:31:00.000000000 545.51   545.8599 545.51   545.8    200971 \n",
      "2024.07.01D13:32:00.000000000 545.8    545.83   545.52   545.58   127010 \n",
      "2024.07.01D13:33:00.000000000 545.57   545.69   545.55   545.62   93041  \n",
      "2024.07.01D13:34:00.000000000 545.62   545.6495 545.44   545.5    102503 \n",
      "2024.07.01D13:35:00.000000000 545.49   545.64   545.46   545.55   115904 \n",
      "2024.07.01D13:36:00.000000000 545.53   545.55   545.31   545.42   122067 \n",
      "2024.07.01D13:37:00.000000000 545.43   545.52   545.31   545.31   91931  \n",
      "2024.07.01D13:38:00.000000000 545.28   545.635  545.27   545.617  87695  \n",
      "2024.07.01D13:39:00.000000000 545.5888 545.62   545.36   545.4157 42153  \n",
      "2024.07.01D13:40:00.000000000 545.415  545.42   545.11   545.14   124622 \n",
      "2024.07.01D13:41:00.000000000 545.11   545.39   545.07   545.36   142136 \n",
      "2024.07.01D13:42:00.000000000 545.36   545.48   545.15   545.26   1196091\n",
      "2024.07.01D13:43:00.000000000 545.26   545.33   545.1647 545.1728 81653  \n",
      "2024.07.01D13:44:00.000000000 545.18   545.18   545      545.08   144335 \n",
      "2024.07.01D13:45:00.000000000 545.07   545.16   544.97   544.99   133105 \n",
      "2024.07.01D13:46:00.000000000 544.99   545.1    544.69   544.71   105944 \n",
      "2024.07.01D13:47:00.000000000 544.71   544.875  544.65   544.66   93700  \n",
      "2024.07.01D13:48:00.000000000 544.65   544.75   544.55   544.61   133027 \n",
      "2024.07.01D13:49:00.000000000 544.6    544.675  544.335  544.39   172178 \n",
      "..\n"
     ]
    }
   ],
   "source": [
    "q.set('t',table)\n",
    "print(q('t'))"
   ]
  }
 ],
 "metadata": {
  "kernelspec": {
   "display_name": "Python 3 (ipykernel)",
   "language": "python",
   "name": "python3"
  },
  "language_info": {
   "codemirror_mode": {
    "name": "ipython",
    "version": 3
   },
   "file_extension": ".py",
   "mimetype": "text/x-python",
   "name": "python",
   "nbconvert_exporter": "python",
   "pygments_lexer": "ipython3",
   "version": "3.9.13"
  }
 },
 "nbformat": 4,
 "nbformat_minor": 5
}
