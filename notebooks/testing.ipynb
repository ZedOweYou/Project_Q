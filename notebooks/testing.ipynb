{
 "cells": [
  {
   "cell_type": "code",
   "execution_count": 1,
   "id": "4edbb4dd-15a5-4317-9d1f-e70709aa3bcc",
   "metadata": {},
   "outputs": [],
   "source": [
    "import os\n",
    "current_dir = os.getcwd()\n",
    "parent_dir = os.path.abspath(os.path.join(current_dir, os.pardir))\n",
    "os.chdir(parent_dir)\n",
    "\n"
   ]
  },
  {
   "cell_type": "code",
   "execution_count": 2,
   "id": "405294b0-30f4-47af-9082-d4c6c57562b0",
   "metadata": {},
   "outputs": [
    {
     "name": "stderr",
     "output_type": "stream",
     "text": [
      "<frozen importlib._bootstrap>:228: PyKXWarning: Unable to connect user QHOME to PyKX QHOME via symlinks\n",
      "[WinError 1314] A required privilege is not held by the client: 'C:\\\\q\\\\kc.lic' -> 'C:\\\\Users\\\\chenx\\\\AppData\\\\Roaming\\\\Python\\\\Python39\\\\site-packages\\\\pykx\\\\lib\\\\kc.lic'\n"
     ]
    }
   ],
   "source": [
    "from data_collection import get_sym_data"
   ]
  },
  {
   "cell_type": "code",
   "execution_count": 3,
   "id": "09ae11a5-4fb9-4dd7-8a04-4dce072419bc",
   "metadata": {},
   "outputs": [
    {
     "name": "stdout",
     "output_type": "stream",
     "text": [
      "                   Datetime        Open        High         Low       Close  \\\n",
      "0 2024-07-01 09:30:00-04:00  212.130005  212.520004  211.919998  212.429993   \n",
      "1 2024-07-01 09:31:00-04:00  212.440002  213.085007  212.330002  212.970001   \n",
      "2 2024-07-01 09:32:00-04:00  213.020004  213.070007  212.610001  212.940002   \n",
      "3 2024-07-01 09:33:00-04:00  212.919998  213.259995  212.550003  213.175003   \n",
      "4 2024-07-01 09:34:00-04:00  213.190002  213.479996  213.080002  213.339996   \n",
      "\n",
      "    Volume  \n",
      "0  1854130  \n",
      "1   585444  \n",
      "2   266148  \n",
      "3   311740  \n",
      "4   289674  \n"
     ]
    },
    {
     "data": {
      "text/plain": [
       "pykx.wrappers.Table"
      ]
     },
     "execution_count": 3,
     "metadata": {},
     "output_type": "execute_result"
    }
   ],
   "source": [
    "table = get_sym_data(\"aapl\")\n",
    "type(table)"
   ]
  },
  {
   "cell_type": "code",
   "execution_count": 4,
   "id": "8e341505-3785-4654-bba0-e285ee85f42a",
   "metadata": {},
   "outputs": [],
   "source": [
    "from pykx import q\n"
   ]
  },
  {
   "cell_type": "code",
   "execution_count": 5,
   "id": "729e4fac-fa32-4f32-8241-4ce5872083d5",
   "metadata": {},
   "outputs": [
    {
     "data": {
      "text/plain": [
       "pykx.SymbolAtom(pykx.q('`t'))"
      ]
     },
     "execution_count": 5,
     "metadata": {},
     "output_type": "execute_result"
    }
   ],
   "source": [
    "q.set('t',[1,2,3,4,5])\n"
   ]
  },
  {
   "cell_type": "code",
   "execution_count": 6,
   "id": "0280a00a-5954-4b44-b188-f70bc1c0f1ae",
   "metadata": {},
   "outputs": [
    {
     "name": "stdout",
     "output_type": "stream",
     "text": [
      "Datetime                      Open     High     Low      Close    Volume \n",
      "-------------------------------------------------------------------------\n",
      "2024.07.01D13:30:00.000000000 212.13   212.52   211.92   212.43   1854130\n",
      "2024.07.01D13:31:00.000000000 212.44   213.085  212.33   212.97   585444 \n",
      "2024.07.01D13:32:00.000000000 213.02   213.07   212.61   212.94   266148 \n",
      "2024.07.01D13:33:00.000000000 212.92   213.26   212.55   213.175  311740 \n",
      "2024.07.01D13:34:00.000000000 213.19   213.48   213.08   213.34   289674 \n",
      "2024.07.01D13:35:00.000000000 213.325  213.6945 213.31   213.655  319934 \n",
      "2024.07.01D13:36:00.000000000 213.64   214.04   213.64   213.886  358466 \n",
      "2024.07.01D13:37:00.000000000 213.875  213.98   213.15   213.24   293368 \n",
      "2024.07.01D13:38:00.000000000 213.26   213.8    213.2201 213.5701 235763 \n",
      "2024.07.01D13:39:00.000000000 213.5701 213.6    213.185  213.33   191667 \n",
      "2024.07.01D13:40:00.000000000 213.32   213.32   212.93   213.1278 283130 \n",
      "2024.07.01D13:41:00.000000000 213.1573 213.46   212.99   213.215  163667 \n",
      "2024.07.01D13:42:00.000000000 213.215  213.61   213.14   213.61   126820 \n",
      "2024.07.01D13:43:00.000000000 213.62   213.8    213.5702 213.725  178162 \n",
      "2024.07.01D13:44:00.000000000 213.72   213.74   213.37   213.529  267633 \n",
      "2024.07.01D13:45:00.000000000 213.5199 213.64   212.99   212.9934 281233 \n",
      "2024.07.01D13:46:00.000000000 213.01   213.14   212.87   213      271832 \n",
      "2024.07.01D13:47:00.000000000 212.98   213.03   212.67   212.71   177501 \n",
      "2024.07.01D13:48:00.000000000 212.715  213.05   212.62   212.945  243963 \n",
      "2024.07.01D13:49:00.000000000 212.99   212.99   212.41   212.445  170363 \n",
      "..\n"
     ]
    }
   ],
   "source": [
    "q.set('t',table)\n",
    "print(q('t'))"
   ]
  },
  {
   "cell_type": "code",
   "execution_count": null,
   "id": "8244afd4-67eb-4a5b-ac1a-6c2a03d0136e",
   "metadata": {},
   "outputs": [],
   "source": []
  },
  {
   "cell_type": "code",
   "execution_count": 8,
   "id": "ae384796-fd7c-4da8-ab39-06583c20f1ef",
   "metadata": {},
   "outputs": [
    {
     "data": {
      "text/plain": [
       "pandas.core.frame.DataFrame"
      ]
     },
     "execution_count": 8,
     "metadata": {},
     "output_type": "execute_result"
    }
   ],
   "source": []
  },
  {
   "cell_type": "code",
   "execution_count": null,
   "id": "256d2483-51fb-4d7c-a62a-843b1657e323",
   "metadata": {},
   "outputs": [],
   "source": []
  }
 ],
 "metadata": {
  "kernelspec": {
   "display_name": "Python 3 (ipykernel)",
   "language": "python",
   "name": "python3"
  },
  "language_info": {
   "codemirror_mode": {
    "name": "ipython",
    "version": 3
   },
   "file_extension": ".py",
   "mimetype": "text/x-python",
   "name": "python",
   "nbconvert_exporter": "python",
   "pygments_lexer": "ipython3",
   "version": "3.9.13"
  }
 },
 "nbformat": 4,
 "nbformat_minor": 5
}
